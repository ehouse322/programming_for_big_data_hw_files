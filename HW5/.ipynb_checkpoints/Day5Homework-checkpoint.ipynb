{
 "cells": [
  {
   "cell_type": "markdown",
   "metadata": {},
   "source": [
    "# Question 1\n",
    "\n",
    "First, we want to find a way to distinguish email addresses from other strings. For example, 'jeb@jeb.org' is a valid email address, while 'jeb' is not. Your task is to write a function that receives a string and returns True if the string is a valid email address or False if the string is not a valid address.\n",
    "\n",
    "The rules defining valid email addresses are extremely complicated, but they generally consist of a local part and a domain part connected by an '@' symbol. In Hillary Clinton's email address (hdr22@clintonemail.com), `hdr22` is the local part while `clintonemail.com` is the domain. Both the local and domain parts must begin and end with alphanumeric characters, but they may contain both '.' and '-' characters within them. The `.com` part is known as the top-level domain, and this must be present in some form, such as `.com`, `.edu`, `.co.uk`, `.gov`, etc.. See the examples below for further clarification:\n",
    "\n",
    "\n",
    "EXAMPLES:\n",
    "    \n",
    "    email_validation(['jeb@jeb.org'])   =================> should return: True\n",
    "    email_validation(['h.rod17@clinton-email.com']) =====> should return: True\n",
    "    email_validation(['h@d.co.uk'])     =================> should return: True\n",
    "    email_validation(['hotmail.com'])   =================> should return: False\n",
    "    email_validation(['.jeb@.jeb.org']) =================> should return: False\n",
    "    \n",
    "    def email_validation(email_addres):\n",
    "        '''\n",
    "        input:\n",
    "            email_addres : str, prospective email addres\n",
    "        output:\n",
    "            verdict : bool, True or False depending oupon email address fit.\n",
    "        '''"
   ]
  },
  {
   "cell_type": "code",
   "execution_count": 1,
   "metadata": {
    "collapsed": true
   },
   "outputs": [],
   "source": [
    "import re"
   ]
  },
  {
   "cell_type": "code",
   "execution_count": 132,
   "metadata": {
    "collapsed": true
   },
   "outputs": [],
   "source": [
    "def email_validation(email_address):\n",
    "    import re\n",
    "    email_expression = '^([a-zA-Z0-9][a-zA-Z0-9.-]+|[a-zA-Z0-9])+@[a-zA-Z0-9.-]+.([a-zA-Z0-9.-]+[a-zA-Z0-9]|[a-zA-Z0-9])$'\n",
    "    if re.match(email_expression, email_address) == None:\n",
    "        return False\n",
    "    else: \n",
    "        return True"
   ]
  },
  {
   "cell_type": "code",
   "execution_count": 134,
   "metadata": {
    "collapsed": false
   },
   "outputs": [
    {
     "name": "stdout",
     "output_type": "stream",
     "text": [
      "Valid Emails:\n",
      "True\n",
      "True\n",
      "True\n",
      "Invalid Emails:\n",
      "False\n",
      "False\n"
     ]
    }
   ],
   "source": [
    "valid_emails = ['jeb@jeb.org', 'h.rod17@clinton-email.com', 'h@d.co.uk']\n",
    "invalid_emails = ['hotmail.com', '.jeb@.jeb.org']\n",
    "\n",
    "print('Valid Emails:')\n",
    "for i in valid_emails:\n",
    "    print(email_validation(i))\n",
    "\n",
    "print('Invalid Emails:')\n",
    "for i in invalid_emails:\n",
    "    print(email_validation(i))"
   ]
  },
  {
   "cell_type": "markdown",
   "metadata": {},
   "source": [
    "# Question 2\n",
    "\n",
    "Your next task is to identify all of the **unique e-mail addresses** in the December 2012 e-mails of Jeb Bush.  \n",
    "        \n",
    "\n",
    "**HINT 1: We found ~1200 unique emails. If you find anything within ~10% of that number, you're doing great!**\n",
    "\n",
    "**HINT 2: You will need to specify utf-8 encoding to read the emails correctly. We've included the relevant code for you.**\n",
    "\n",
    "\n",
    "    def find_unique_emails(directory):\n",
    "        '''\n",
    "        input:\n",
    "            directory - str, directory containing the email files\n",
    "        output:\n",
    "            num_unique_emails - int, number of unique email address found\n",
    "        '''"
   ]
  },
  {
   "cell_type": "code",
   "execution_count": 130,
   "metadata": {
    "collapsed": true
   },
   "outputs": [],
   "source": [
    "def find_unique_emails(filepath):\n",
    "    '''\n",
    "    input:\n",
    "        filepath - str, directory containing the email files\n",
    "    output:\n",
    "        num_unique_emails - int, number of unique email address found\n",
    "    '''\n",
    "    import re\n",
    "    from collections import Counter\n",
    "    \n",
    "    emails = open(filepath, 'r', encoding='ISO-8859-1').read()\n",
    "    \n",
    "    \n",
    "    result_list = []\n",
    "    email_expression = '[a-zA-Z0-9.+-]+@[a-zA-Z0-9.-]+.[a-zA-Z0-9]'\n",
    "    \n",
    "    result = re.findall(email_expression, emails)\n",
    "    \n",
    "    for i, email in enumerate(result):\n",
    "        result[i] = email.strip('.%_+@:=[]<>\\';()').strip()\n",
    "        \n",
    "    #for item in result:\n",
    "    #    result_list.append(item)\n",
    "    dict_of_results = Counter(result)\n",
    "    list_of_keys = list(dict_of_results.keys())\n",
    "    \n",
    "    num_unique_emails = len(list_of_keys)\n",
    "    \n",
    "    return num_unique_emails"
   ]
  },
  {
   "cell_type": "code",
   "execution_count": 131,
   "metadata": {
    "collapsed": false
   },
   "outputs": [
    {
     "data": {
      "text/plain": [
       "1214"
      ]
     },
     "execution_count": 131,
     "metadata": {},
     "output_type": "execute_result"
    }
   ],
   "source": [
    "find_unique_emails('../HW5/2001-12Dec.txt')"
   ]
  },
  {
   "cell_type": "markdown",
   "metadata": {},
   "source": [
    "# Question 3\n",
    "\n",
    "What was the largest number of e-mails that any one person sent to Jeb?\n",
    "\n",
    "    def find_the_best_friend(directory):\n",
    "        '''\n",
    "        input:\n",
    "            directory - str, directory of all email files\n",
    "        output:\n",
    "            email_count - int, number of emails sent to/from that contact\n",
    "        '''"
   ]
  },
  {
   "cell_type": "code",
   "execution_count": 126,
   "metadata": {
    "collapsed": false
   },
   "outputs": [],
   "source": [
    "def find_the_best_friend(filename):\n",
    "    '''\n",
    "    input:\n",
    "        filename - str, directory containing the email files\n",
    "    output:\n",
    "        email_count - int, number of emails sent to/from that contact\n",
    "    '''\n",
    "    import re\n",
    "    from collections import Counter\n",
    "    \n",
    "    emails = open(filename, 'r', encoding='ISO-8859-1').read()\n",
    "    \n",
    "    email_expression = '[a-zA-Z0-9.%_+-]+@[a-zA-Z0-9.-]+.[a-zA-Z0-9]+'\n",
    "    \n",
    "    result = re.findall(email_expression, emails)\n",
    "    \n",
    "    for i, email in enumerate(result):\n",
    "        result[i] = email.strip('.%_+@:=[]<>\\';()').strip()\n",
    "        \n",
    "    dict_of_results = Counter(result)\n",
    "    list_of_values = list(dict_of_results.values())\n",
    "#     I noticed that Jeb's own email is the most common, so I found the second highest email count\n",
    "    email_count = sorted(list_of_values)[-2]\n",
    "    \n",
    "    return email_count"
   ]
  },
  {
   "cell_type": "code",
   "execution_count": 127,
   "metadata": {
    "collapsed": false
   },
   "outputs": [
    {
     "data": {
      "text/plain": [
       "117"
      ]
     },
     "execution_count": 127,
     "metadata": {},
     "output_type": "execute_result"
    }
   ],
   "source": [
    "find_the_best_friend('../HW5/2001-12Dec.txt')"
   ]
  },
  {
   "cell_type": "markdown",
   "metadata": {
    "collapsed": true
   },
   "source": [
    "# Question 4\n",
    "\n",
    "Which Shakespearen play has the largest ratio of positive to negative words (so not the largest raw number of words, but the ratio of one to the other or said another way 'words > 0' divided by 'words < 0').\n",
    "\n",
    "    def happiest_play(shakespeare_fname):\n",
    "        '''\n",
    "        Find the shakespearan play that is the happiest (largest ratio of positive to negative words)\n",
    "\n",
    "        Input:\n",
    "            * shakespeare_fname - file name for shakespeare's work\n",
    "        Output:\n",
    "            * play_name - happiest play\n",
    "        '''"
   ]
  },
  {
   "cell_type": "markdown",
   "metadata": {},
   "source": [
    "# Question 5\n",
    "\n",
    "Similar question, which play has the highest average word happiness?\n",
    "\n",
    "    def happiest_play_normalized(shakespeare_fname):\n",
    "        '''\n",
    "        Find the shakespearan play that is the happiest (largest ratio of positive to negative words)\n",
    "\n",
    "        Input:\n",
    "            * shakespeare_fname - file name for shakespeare's work\n",
    "        Output:\n",
    "            * play_name - happiest play\n",
    "        '''"
   ]
  }
 ],
 "metadata": {
  "anaconda-cloud": {},
  "kernelspec": {
   "display_name": "Python [Root]",
   "language": "python",
   "name": "Python [Root]"
  },
  "language_info": {
   "codemirror_mode": {
    "name": "ipython",
    "version": 3
   },
   "file_extension": ".py",
   "mimetype": "text/x-python",
   "name": "python",
   "nbconvert_exporter": "python",
   "pygments_lexer": "ipython3",
   "version": "3.5.2"
  }
 },
 "nbformat": 4,
 "nbformat_minor": 0
}
