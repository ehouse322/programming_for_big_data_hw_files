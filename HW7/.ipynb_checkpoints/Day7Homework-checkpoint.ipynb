{
 "cells": [
  {
   "cell_type": "markdown",
   "metadata": {},
   "source": [
    "# Question 1\n",
    "\n",
    "I want you to convert the date `2013-09-12` to a datetime `datetime` variable.\n",
    "\n",
    "    def transform_string_to_date(date_string):\n",
    "        '''\n",
    "        input:\n",
    "            date_string - str, represents a date as 'YYYY-MM-DD'\n",
    "        output:\n",
    "            date - datetime.date \n",
    "        '''"
   ]
  },
  {
   "cell_type": "code",
   "execution_count": 252,
   "metadata": {
    "collapsed": true
   },
   "outputs": [],
   "source": [
    "import datetime\n",
    "import pandas as pd\n",
    "import numpy as np\n",
    "import glob"
   ]
  },
  {
   "cell_type": "code",
   "execution_count": 253,
   "metadata": {
    "collapsed": false
   },
   "outputs": [],
   "source": [
    "def transform_string_to_date(date_string):\n",
    "    '''\n",
    "    input:\n",
    "        date_string - str, represents a date as 'YYYY-MM-DD'\n",
    "    output:\n",
    "        date - datetime.date \n",
    "    '''\n",
    "    import datetime\n",
    "    import pandas as pd\n",
    "    import numpy as np\n",
    "    import glob\n",
    "    \n",
    "    date = datetime.datetime.strptime(str(date_string), '%Y-%m-%d')\n",
    "    return date"
   ]
  },
  {
   "cell_type": "code",
   "execution_count": 254,
   "metadata": {
    "collapsed": false
   },
   "outputs": [
    {
     "data": {
      "text/plain": [
       "datetime.datetime(2013, 9, 12, 0, 0)"
      ]
     },
     "execution_count": 254,
     "metadata": {},
     "output_type": "execute_result"
    }
   ],
   "source": [
    "transform_string_to_date('2013-09-12')"
   ]
  },
  {
   "cell_type": "markdown",
   "metadata": {},
   "source": [
    "# Question 2\n",
    "\n",
    "Now let's move on and work with the AAPL stock data again (Located in the Data/ folder). How much would I have made if I purchased 10 shares of AAPL stock at the Opening price on September 1st, 2000 and sold it at the closing price on March 7, 2008?\n",
    "\n",
    "    def calculate_eight_year_gain(fname):\n",
    "        '''\n",
    "        Calculates the stock gain from 9-1-2000 Open price to 3-7-2008 close price for\n",
    "        10 shares of stock\n",
    "        input:\n",
    "            fname - str, aapl stock price filename\n",
    "        output:\n",
    "            gain - float, monetary gain during period\n",
    "        '''"
   ]
  },
  {
   "cell_type": "code",
   "execution_count": 255,
   "metadata": {
    "collapsed": true
   },
   "outputs": [],
   "source": [
    "def calculate_eight_year_gain(fname):\n",
    "    '''\n",
    "    Calculates the stock gain from 9-1-2000 Open price to 3-7-2008 close price for\n",
    "    10 shares of stock\n",
    "    input:\n",
    "        fname - str, aapl stock price filename\n",
    "    output:\n",
    "        gain - float, monetary gain during period\n",
    "    '''\n",
    "    import datetime\n",
    "    import pandas as pd\n",
    "    import numpy as np\n",
    "    import glob\n",
    "    \n",
    "    aapl = pd.read_csv(fname)\n",
    "    \n",
    "    start_date = aapl[aapl.Date == '2000-09-01']\n",
    "    end_date = aapl[aapl.Date == '2008-03-07']\n",
    "   \n",
    "    start_open = start_date['Open']\n",
    "    end_close = end_date['Close']\n",
    "    \n",
    "    shares = 10\n",
    "    per_share_profit = np.subtract(end_close, start_open)\n",
    "    gain = float(shares * per_share_profit)\n",
    "    return gain"
   ]
  },
  {
   "cell_type": "code",
   "execution_count": 256,
   "metadata": {
    "collapsed": false
   },
   "outputs": [
    {
     "data": {
      "text/plain": [
       "609.3759600000001"
      ]
     },
     "execution_count": 256,
     "metadata": {},
     "output_type": "execute_result"
    }
   ],
   "source": [
    "calculate_eight_year_gain('../../Data/Day7-Structured-Data-Analysis/aapl_stock_price.csv')"
   ]
  },
  {
   "cell_type": "markdown",
   "metadata": {},
   "source": [
    "# Question 3\n",
    "Write a function to count the number of dates AAPL was traded between two dates (both dates inclusive)\n",
    "\n",
    "    def count_number_of_trading_days(fname, start, stop):\n",
    "    '''\n",
    "    Counts the number of trading days between 1988-06-06 and 1999-12-07 (inclusive)\n",
    "    input:\n",
    "        start - str, start date in string format\n",
    "        stop - str, stop date in string format\n",
    "    output:\n",
    "        trading_days - int, number of trading days during the time period\n",
    "    '''"
   ]
  },
  {
   "cell_type": "code",
   "execution_count": 257,
   "metadata": {
    "collapsed": true
   },
   "outputs": [],
   "source": [
    "def count_number_of_trading_days(fname, start, stop):\n",
    "    '''\n",
    "    Counts the number of trading days between 1988-06-06 and 1999-12-07 (inclusive)\n",
    "    input:\n",
    "        start - str, start date in string format\n",
    "        stop - str, stop date in string format\n",
    "    output:\n",
    "        trading_days - int, number of trading days during the time period\n",
    "    '''\n",
    "    import datetime\n",
    "    import pandas as pd\n",
    "    import numpy as np\n",
    "    import glob\n",
    "    \n",
    "    aapl = pd.read_csv('../../Data/Day7-Structured-Data-Analysis/aapl_stock_price.csv')\n",
    "    days_between = aapl[(aapl.Date >= start) & (aapl.Date <= stop)]\n",
    "    trading_days = int(days_between.Date.count())\n",
    "    return trading_days"
   ]
  },
  {
   "cell_type": "code",
   "execution_count": 258,
   "metadata": {
    "collapsed": false
   },
   "outputs": [
    {
     "data": {
      "text/plain": [
       "2909"
      ]
     },
     "execution_count": 258,
     "metadata": {},
     "output_type": "execute_result"
    }
   ],
   "source": [
    "count_number_of_trading_days('../../Data/Day7-Structured-Data-Analysis/aapl_stock_price.csv', '1988-06-06', \n",
    "                            '1999-12-07')"
   ]
  },
  {
   "cell_type": "markdown",
   "metadata": {},
   "source": [
    "# Question 4\n",
    "\n",
    "How many days did the stock close above its opening price during a given period of time (inclusive)?\n",
    "\n",
    "    def number_of_days_positive_gain(fname, start, stop):\n",
    "        '''\n",
    "        Counts the number of trading days between the start and stop date (inclusive)\n",
    "        where the close price is greater than the open price.\n",
    "        input:\n",
    "            start - str, start date in string format\n",
    "            stop - str, stop date in string format\n",
    "        output:\n",
    "            positive_days - int, number of trading days during the time period\n",
    "                                 where a positive gain was made\n",
    "        '''"
   ]
  },
  {
   "cell_type": "code",
   "execution_count": 106,
   "metadata": {
    "collapsed": false
   },
   "outputs": [],
   "source": [
    "def number_of_days_positive_gain(fname, start, stop):\n",
    "    '''\n",
    "    Counts the number of trading days between the start and stop date (inclusive)\n",
    "    where the close price is greater than the open price.\n",
    "    input:\n",
    "        start - str, start date in string format\n",
    "        stop - str, stop date in string format\n",
    "    output:\n",
    "        positive_days - int, number of trading days during the time period\n",
    "                             where a positive gain was made\n",
    "    '''\n",
    "    positive_days = 0\n",
    "    aapl = pd.read_csv(fname)\n",
    "    aapl['Daily Change'] = aapl['Close'] - aapl['Open']\n",
    "    aapl_section = aapl[(aapl.Date >= start) & (aapl.Date <= stop)]\n",
    "    for item in aapl_section['Daily Change']:\n",
    "        if item > 0:\n",
    "            positive_days += 1\n",
    "    return positive_days"
   ]
  },
  {
   "cell_type": "code",
   "execution_count": 259,
   "metadata": {
    "collapsed": false
   },
   "outputs": [
    {
     "data": {
      "text/plain": [
       "1322"
      ]
     },
     "execution_count": 259,
     "metadata": {},
     "output_type": "execute_result"
    }
   ],
   "source": [
    "number_of_days_positive_gain('../../Data/Day7-Structured-Data-Analysis/aapl_stock_price.csv', '1988-06-06', '1999-12-07')"
   ]
  },
  {
   "cell_type": "markdown",
   "metadata": {},
   "source": [
    "# Question 5\n",
    "\n",
    "Now let's work with the data on the college majors again. Except this time I want to examine **graduate** students. First, since this is a survey: which major (or majors if a tie) has the largest sample size? You can return just a Pandas series with the top major(s).\n",
    "\n",
    "    def largest_sample_size(fname):\n",
    "        '''\n",
    "        Identifies the major with the largest sample size from the survey\n",
    "        input:\n",
    "            fname - str, the filename of the grad students csv file\n",
    "        output:\n",
    "            major - str, the major with the largest sample size\n",
    "        '''"
   ]
  },
  {
   "cell_type": "code",
   "execution_count": 260,
   "metadata": {
    "collapsed": true
   },
   "outputs": [],
   "source": [
    "def largest_sample_size(fname):\n",
    "    '''\n",
    "    Identifies the major with the largest sample size from the survey\n",
    "    input:\n",
    "        fname - str, the filename of the grad students csv file\n",
    "    output:\n",
    "        major - str, the major with the largest sample size\n",
    "    '''\n",
    "    import datetime\n",
    "    import pandas as pd\n",
    "    import numpy as np\n",
    "    import glob\n",
    "    \n",
    "    df = pd.read_csv(fname)\n",
    "    \n",
    "    temp_list = []\n",
    "    largest_size = 0\n",
    "    sliced_df = df[['Major', 'Grad_sample_size']]\n",
    "    sliced_df_list = list(zip(sliced_df['Major'], sliced_df['Grad_sample_size']))\n",
    "    \n",
    "    for pair in sliced_df_list:\n",
    "        if int(pair[1]) >= largest_size:\n",
    "            largest_size = pair[1]\n",
    "            temp_list.append(pair)\n",
    "    largest_majors = []\n",
    "    largest_majors.append(temp_list[-1])\n",
    "    for pair in temp_list:\n",
    "        if pair[0] == largest_majors[0][0]:\n",
    "            pass\n",
    "        elif pair[1] >= largest_majors[0][1]:\n",
    "            largest_majors.append(pair)\n",
    "    major = ''\n",
    "    for pair in largest_majors:\n",
    "        major = major + pair[0]\n",
    "        \n",
    "    return major\n",
    "    "
   ]
  },
  {
   "cell_type": "code",
   "execution_count": 261,
   "metadata": {
    "collapsed": false
   },
   "outputs": [
    {
     "data": {
      "text/plain": [
       "'BIOLOGY'"
      ]
     },
     "execution_count": 261,
     "metadata": {},
     "output_type": "execute_result"
    }
   ],
   "source": [
    "largest_sample_size('../../Data/Day4-Dictionaries/College-Majors/grad-students.csv')"
   ]
  },
  {
   "cell_type": "markdown",
   "metadata": {},
   "source": [
    "# Question 6\n",
    "In a future far, far away (January 2017) the markets have cratered, upending the United States economy. In this brave new future, manufacturing, business, and commerce are 95% unemployed. All of our attentation has turned to individuals in the Arts (`Major_category` of `Arts`), which are now in high demand and only 5% are unemployed.\n",
    "\n",
    "How many of the individuals in the graduate student dataset will be unemployed in 2016?\n",
    "\n",
    "    def brave_new_future_unemployment(fname):\n",
    "        '''\n",
    "        What is the number of unemployed individuals when majors in the `Arts` are at 5% unemployment and\n",
    "        all other majors are at 95% unemployment\n",
    "        input:\n",
    "            fname - str, filepath to the graduate students file\n",
    "        output:\n",
    "            unemployed - int, the number of unemployed individuals\n",
    "        '''"
   ]
  },
  {
   "cell_type": "code",
   "execution_count": 269,
   "metadata": {
    "collapsed": true
   },
   "outputs": [],
   "source": [
    "def brave_new_future_unemployment(fname):\n",
    "    '''\n",
    "    What is the number of unemployed individuals when majors in the `Arts` are at 5% unemployment and\n",
    "    all other majors are at 95% unemployment\n",
    "    input:\n",
    "        fname - str, filepath to the graduate students file\n",
    "    output:\n",
    "        unemployed - int, the number of unemployed individuals\n",
    "    '''\n",
    "    import datetime\n",
    "    import pandas as pd\n",
    "    import numpy as np\n",
    "    import glob\n",
    "    \n",
    "    unemployment_rate = .95\n",
    "    majors_df = pd.read_csv('../../Data/Day4-Dictionaries/College-Majors/grad-students.csv')\n",
    "    total_students = majors_df['Grad_total'].sum()\n",
    " \n",
    "    art_students = 0\n",
    "    sliced_list = list(zip(majors_df['Major_category'], majors_df['Grad_total']))\n",
    "    for pair in sliced_list:\n",
    "        if pair[0] == 'Arts':\n",
    "            art_students += pair[1]\n",
    "    \n",
    "    non_art_students = total_students - art_students\n",
    "    unemployed = int(non_art_students * unemployment_rate)\n",
    "    return unemployed"
   ]
  },
  {
   "cell_type": "code",
   "execution_count": 270,
   "metadata": {
    "collapsed": false
   },
   "outputs": [
    {
     "data": {
      "text/plain": [
       "20431501"
      ]
     },
     "execution_count": 270,
     "metadata": {},
     "output_type": "execute_result"
    }
   ],
   "source": [
    "brave_new_future_unemployment('../../Data/Day4-Dictionaries/College-Majors/grad-students.csv')"
   ]
  },
  {
   "cell_type": "markdown",
   "metadata": {},
   "source": [
    "# Question 7\n",
    "\n",
    "How many majors have more non graduates employed (`Nongrad_employed`) than graduates employed (`Grad_employed`)?\n",
    "\n",
    "    def more_nongrad_employed(fname):\n",
    "        '''\n",
    "        How many majors have more non grads employed than grads?\n",
    "        input:\n",
    "            fname - str, filename\n",
    "        output:\n",
    "            num_nongrad_majors - int, number of majors with more non-graduates employed than graduates.\n",
    "        '''"
   ]
  },
  {
   "cell_type": "code",
   "execution_count": 271,
   "metadata": {
    "collapsed": true
   },
   "outputs": [],
   "source": [
    "def more_nongrad_employed(fname):\n",
    "    '''\n",
    "    How many majors have more non grads employed than grads?\n",
    "    input:\n",
    "        fname - str, filename\n",
    "    output:\n",
    "        num_nongrad_majors - int, number of majors with more non-graduates employed than graduates.\n",
    "    '''\n",
    "    import datetime\n",
    "    import pandas as pd\n",
    "    import numpy as np\n",
    "    import glob\n",
    "    \n",
    "    num_nongrad_majors = 0\n",
    "    df = pd.read_csv(fname)\n",
    "    df['Nongrad - Grad'] = df['Nongrad_employed'] - df['Grad_unemployed']\n",
    "    sliced_df = df[['Major', 'Nongrad - Grad']]\n",
    "    sliced_df_list = list(zip(sliced_df['Major'], sliced_df['Nongrad - Grad']))\n",
    "    \n",
    "    for pair in sliced_df_list:\n",
    "        if pair[1] > 0:\n",
    "            num_nongrad_majors += 1\n",
    "    \n",
    "    return num_nongrad_majors"
   ]
  },
  {
   "cell_type": "code",
   "execution_count": 272,
   "metadata": {
    "collapsed": false
   },
   "outputs": [
    {
     "data": {
      "text/plain": [
       "173"
      ]
     },
     "execution_count": 272,
     "metadata": {},
     "output_type": "execute_result"
    }
   ],
   "source": [
    "more_nongrad_employed('../../Data/Day4-Dictionaries/College-Majors/grad-students.csv')"
   ]
  },
  {
   "cell_type": "code",
   "execution_count": 243,
   "metadata": {
    "collapsed": true
   },
   "outputs": [],
   "source": [
    "df['Employed - Unemployed'] = df['Grad_employed'] - df['Grad_unemployed']\n",
    "sliced_df = df[['Major', 'Employed - Unemployed']]"
   ]
  },
  {
   "cell_type": "code",
   "execution_count": 266,
   "metadata": {
    "collapsed": false
   },
   "outputs": [],
   "source": [
    "df['Nongrad - Grad'] = df['Nongrad_employed'] - df['Grad_unemployed']\n",
    "sliced_df = df[['Major', 'Nongrad - Grad']]\n",
    "\n",
    "sliced_df_list = list(zip(sliced_df['Major'], sliced_df['Nongrad - Grad']))\n",
    "sliced_df_list\n",
    "for pair in sliced_df_list:\n",
    "    if pair[1] > 0:\n",
    "        #print(pair)\n",
    "        pass"
   ]
  },
  {
   "cell_type": "code",
   "execution_count": null,
   "metadata": {
    "collapsed": true
   },
   "outputs": [],
   "source": []
  }
 ],
 "metadata": {
  "anaconda-cloud": {},
  "kernelspec": {
   "display_name": "Python [Root]",
   "language": "python",
   "name": "Python [Root]"
  },
  "language_info": {
   "codemirror_mode": {
    "name": "ipython",
    "version": 3
   },
   "file_extension": ".py",
   "mimetype": "text/x-python",
   "name": "python",
   "nbconvert_exporter": "python",
   "pygments_lexer": "ipython3",
   "version": "3.5.2"
  }
 },
 "nbformat": 4,
 "nbformat_minor": 0
}
